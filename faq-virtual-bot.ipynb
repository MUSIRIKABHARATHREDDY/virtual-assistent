{
 "cells": [
  {
   "cell_type": "code",
   "execution_count": null,
   "metadata": {},
   "outputs": [],
   "source": [
    "import numpy as np\n",
    "import pandas as pd\n",
    "\n",
    "from lingualytics.preprocessing import remove_lessthan, remove_punctuation, remove_stopwords\n",
    "from lingualytics.stopwords import en_stopwords\n",
    "from texthero.preprocessing import remove_digits\n",
    "\n",
    "from sentence_transformers import SentenceTransformer\n",
    "\n",
    "\n",
    "from torch.nn import CosineSimilarity\n",
    "import torch\n",
    "import pickle\n",
    "print(\"all libraries satisfied\")"
   ]
  },
  {
   "cell_type": "code",
   "execution_count": null,
   "metadata": {},
   "outputs": [],
   "source": [
    "pip install pickle"
   ]
  },
  {
   "cell_type": "code",
   "execution_count": 2,
   "metadata": {},
   "outputs": [
    {
     "name": "stdout",
     "output_type": "stream",
     "text": [
      "Requirement already satisfied: lingualytics in c:\\users\\91934\\anaconda3\\lib\\site-packages (0.1.3)\n",
      "Requirement already satisfied: scikit-learn>=0.22 in c:\\users\\91934\\anaconda3\\lib\\site-packages (from lingualytics) (0.23.2)\n",
      "Requirement already satisfied: tabulate>=0.8.7 in c:\\users\\91934\\anaconda3\\lib\\site-packages (from lingualytics) (0.8.9)\n",
      "Requirement already satisfied: texthero>=1.0 in c:\\users\\91934\\anaconda3\\lib\\site-packages (from lingualytics) (1.1.0)\n",
      "Requirement already satisfied: tqdm>=4.48.2 in c:\\users\\91934\\anaconda3\\lib\\site-packages (from lingualytics) (4.50.2)\n",
      "Requirement already satisfied: transformers>=3.0 in c:\\users\\91934\\anaconda3\\lib\\site-packages (from lingualytics) (4.11.2)\n",
      "Requirement already satisfied: numpy>=1.17 in c:\\users\\91934\\anaconda3\\lib\\site-packages (from lingualytics) (1.19.2)\n",
      "Requirement already satisfied: torch>=1.6 in c:\\users\\91934\\anaconda3\\lib\\site-packages (from lingualytics) (1.9.1)\n",
      "Requirement already satisfied: pandas>=1.0.2 in c:\\users\\91934\\anaconda3\\lib\\site-packages (from lingualytics) (1.1.3)\n",
      "Requirement already satisfied: joblib>=0.11 in c:\\users\\91934\\anaconda3\\lib\\site-packages (from scikit-learn>=0.22->lingualytics) (0.17.0)\n",
      "Requirement already satisfied: scipy>=0.19.1 in c:\\users\\91934\\anaconda3\\lib\\site-packages (from scikit-learn>=0.22->lingualytics) (1.5.2)\n",
      "Requirement already satisfied: threadpoolctl>=2.0.0 in c:\\users\\91934\\anaconda3\\lib\\site-packages (from scikit-learn>=0.22->lingualytics) (2.1.0)\n",
      "Requirement already satisfied: plotly>=4.2.0 in c:\\users\\91934\\anaconda3\\lib\\site-packages (from texthero>=1.0->lingualytics) (5.3.1)\n",
      "Requirement already satisfied: nltk>=3.3 in c:\\users\\91934\\anaconda3\\lib\\site-packages (from texthero>=1.0->lingualytics) (3.5)\n",
      "Requirement already satisfied: unidecode>=1.1.1 in c:\\users\\91934\\anaconda3\\lib\\site-packages (from texthero>=1.0->lingualytics) (1.3.2)\n",
      "Requirement already satisfied: wordcloud>=1.5.0 in c:\\users\\91934\\anaconda3\\lib\\site-packages (from texthero>=1.0->lingualytics) (1.8.1)\n",
      "Requirement already satisfied: matplotlib>=3.1.0 in c:\\users\\91934\\anaconda3\\lib\\site-packages (from texthero>=1.0->lingualytics) (3.3.2)\n",
      "Requirement already satisfied: spacy<3.0.0 in c:\\users\\91934\\anaconda3\\lib\\site-packages (from texthero>=1.0->lingualytics) (2.3.7)\n",
      "Requirement already satisfied: gensim<4.0,>=3.6.0 in c:\\users\\91934\\anaconda3\\lib\\site-packages (from texthero>=1.0->lingualytics) (3.8.3)\n",
      "Requirement already satisfied: sacremoses in c:\\users\\91934\\anaconda3\\lib\\site-packages (from transformers>=3.0->lingualytics) (0.0.46)\n",
      "Requirement already satisfied: requests in c:\\users\\91934\\anaconda3\\lib\\site-packages (from transformers>=3.0->lingualytics) (2.24.0)\n",
      "Requirement already satisfied: filelock in c:\\users\\91934\\anaconda3\\lib\\site-packages (from transformers>=3.0->lingualytics) (3.0.12)\n",
      "Requirement already satisfied: huggingface-hub>=0.0.17 in c:\\users\\91934\\anaconda3\\lib\\site-packages (from transformers>=3.0->lingualytics) (0.0.17)\n",
      "Requirement already satisfied: pyyaml>=5.1 in c:\\users\\91934\\anaconda3\\lib\\site-packages (from transformers>=3.0->lingualytics) (5.3.1)\n",
      "Requirement already satisfied: tokenizers<0.11,>=0.10.1 in c:\\users\\91934\\anaconda3\\lib\\site-packages (from transformers>=3.0->lingualytics) (0.10.3)\n",
      "Requirement already satisfied: regex!=2019.12.17 in c:\\users\\91934\\anaconda3\\lib\\site-packages (from transformers>=3.0->lingualytics) (2020.10.15)\n",
      "Requirement already satisfied: packaging>=20.0 in c:\\users\\91934\\anaconda3\\lib\\site-packages (from transformers>=3.0->lingualytics) (20.4)\n",
      "Requirement already satisfied: typing-extensions in c:\\users\\91934\\anaconda3\\lib\\site-packages (from torch>=1.6->lingualytics) (3.7.4.3)\n",
      "Requirement already satisfied: python-dateutil>=2.7.3 in c:\\users\\91934\\anaconda3\\lib\\site-packages (from pandas>=1.0.2->lingualytics) (2.8.1)Note: you may need to restart the kernel to use updated packages.\n",
      "\n",
      "Requirement already satisfied: pytz>=2017.2 in c:\\users\\91934\\anaconda3\\lib\\site-packages (from pandas>=1.0.2->lingualytics) (2020.1)\n",
      "Requirement already satisfied: six in c:\\users\\91934\\anaconda3\\lib\\site-packages (from plotly>=4.2.0->texthero>=1.0->lingualytics) (1.15.0)\n",
      "Requirement already satisfied: tenacity>=6.2.0 in c:\\users\\91934\\anaconda3\\lib\\site-packages (from plotly>=4.2.0->texthero>=1.0->lingualytics) (8.0.1)\n",
      "Requirement already satisfied: click in c:\\users\\91934\\anaconda3\\lib\\site-packages (from nltk>=3.3->texthero>=1.0->lingualytics) (7.1.2)\n",
      "Requirement already satisfied: pillow in c:\\users\\91934\\anaconda3\\lib\\site-packages (from wordcloud>=1.5.0->texthero>=1.0->lingualytics) (8.0.1)\n",
      "Requirement already satisfied: certifi>=2020.06.20 in c:\\users\\91934\\anaconda3\\lib\\site-packages (from matplotlib>=3.1.0->texthero>=1.0->lingualytics) (2020.6.20)\n",
      "Requirement already satisfied: pyparsing!=2.0.4,!=2.1.2,!=2.1.6,>=2.0.3 in c:\\users\\91934\\anaconda3\\lib\\site-packages (from matplotlib>=3.1.0->texthero>=1.0->lingualytics) (2.4.7)\n",
      "Requirement already satisfied: cycler>=0.10 in c:\\users\\91934\\anaconda3\\lib\\site-packages (from matplotlib>=3.1.0->texthero>=1.0->lingualytics) (0.10.0)\n",
      "Requirement already satisfied: kiwisolver>=1.0.1 in c:\\users\\91934\\anaconda3\\lib\\site-packages (from matplotlib>=3.1.0->texthero>=1.0->lingualytics) (1.3.0)\n",
      "Requirement already satisfied: catalogue<1.1.0,>=0.0.7 in c:\\users\\91934\\anaconda3\\lib\\site-packages (from spacy<3.0.0->texthero>=1.0->lingualytics) (1.0.0)\n",
      "Requirement already satisfied: cymem<2.1.0,>=2.0.2 in c:\\users\\91934\\anaconda3\\lib\\site-packages (from spacy<3.0.0->texthero>=1.0->lingualytics) (2.0.5)\n",
      "Requirement already satisfied: setuptools in c:\\users\\91934\\anaconda3\\lib\\site-packages (from spacy<3.0.0->texthero>=1.0->lingualytics) (50.3.1.post20201107)\n",
      "Requirement already satisfied: srsly<1.1.0,>=1.0.2 in c:\\users\\91934\\anaconda3\\lib\\site-packages (from spacy<3.0.0->texthero>=1.0->lingualytics) (1.0.5)\n",
      "Requirement already satisfied: thinc<7.5.0,>=7.4.1 in c:\\users\\91934\\anaconda3\\lib\\site-packages (from spacy<3.0.0->texthero>=1.0->lingualytics) (7.4.5)\n",
      "Requirement already satisfied: murmurhash<1.1.0,>=0.28.0 in c:\\users\\91934\\anaconda3\\lib\\site-packages (from spacy<3.0.0->texthero>=1.0->lingualytics) (1.0.5)\n",
      "Requirement already satisfied: preshed<3.1.0,>=3.0.2 in c:\\users\\91934\\anaconda3\\lib\\site-packages (from spacy<3.0.0->texthero>=1.0->lingualytics) (3.0.5)\n",
      "Requirement already satisfied: wasabi<1.1.0,>=0.4.0 in c:\\users\\91934\\anaconda3\\lib\\site-packages (from spacy<3.0.0->texthero>=1.0->lingualytics) (0.8.2)\n",
      "Requirement already satisfied: plac<1.2.0,>=0.9.6 in c:\\users\\91934\\anaconda3\\lib\\site-packages (from spacy<3.0.0->texthero>=1.0->lingualytics) (1.1.3)\n",
      "Requirement already satisfied: blis<0.8.0,>=0.4.0 in c:\\users\\91934\\anaconda3\\lib\\site-packages (from spacy<3.0.0->texthero>=1.0->lingualytics) (0.7.4)\n",
      "Requirement already satisfied: smart-open>=1.8.1 in c:\\users\\91934\\anaconda3\\lib\\site-packages (from gensim<4.0,>=3.6.0->texthero>=1.0->lingualytics) (5.2.1)\n",
      "Requirement already satisfied: Cython==0.29.14 in c:\\users\\91934\\anaconda3\\lib\\site-packages (from gensim<4.0,>=3.6.0->texthero>=1.0->lingualytics) (0.29.14)\n",
      "Requirement already satisfied: chardet<4,>=3.0.2 in c:\\users\\91934\\anaconda3\\lib\\site-packages (from requests->transformers>=3.0->lingualytics) (3.0.4)\n",
      "Requirement already satisfied: idna<3,>=2.5 in c:\\users\\91934\\anaconda3\\lib\\site-packages (from requests->transformers>=3.0->lingualytics) (2.10)\n",
      "Requirement already satisfied: urllib3!=1.25.0,!=1.25.1,<1.26,>=1.21.1 in c:\\users\\91934\\anaconda3\\lib\\site-packages (from requests->transformers>=3.0->lingualytics) (1.25.11)\n"
     ]
    }
   ],
   "source": [
    "pip install lingualytics"
   ]
  },
  {
   "cell_type": "code",
   "execution_count": 3,
   "metadata": {},
   "outputs": [
    {
     "name": "stdout",
     "output_type": "stream",
     "text": [
      "Requirement already satisfied: sentence-transformers in c:\\users\\91934\\anaconda3\\lib\\site-packages (2.1.0)\n",
      "Requirement already satisfied: sentencepiece in c:\\users\\91934\\anaconda3\\lib\\site-packages (from sentence-transformers) (0.1.96)\n",
      "Requirement already satisfied: torchvision in c:\\users\\91934\\anaconda3\\lib\\site-packages (from sentence-transformers) (0.10.1)Note: you may need to restart the kernel to use updated packages.\n",
      "Requirement already satisfied: tokenizers>=0.10.3 in c:\\users\\91934\\anaconda3\\lib\\site-packages (from sentence-transformers) (0.10.3)\n",
      "Requirement already satisfied: nltk in c:\\users\\91934\\anaconda3\\lib\\site-packages (from sentence-transformers) (3.5)\n",
      "Requirement already satisfied: numpy in c:\\users\\91934\\anaconda3\\lib\\site-packages (from sentence-transformers) (1.19.2)\n",
      "Requirement already satisfied: torch>=1.6.0 in c:\\users\\91934\\anaconda3\\lib\\site-packages (from sentence-transformers) (1.9.1)\n",
      "Requirement already satisfied: tqdm in c:\\users\\91934\\anaconda3\\lib\\site-packages (from sentence-transformers) (4.50.2)\n",
      "\n",
      "Requirement already satisfied: huggingface-hub in c:\\users\\91934\\anaconda3\\lib\\site-packages (from sentence-transformers) (0.0.17)\n",
      "Requirement already satisfied: transformers<5.0.0,>=4.6.0 in c:\\users\\91934\\anaconda3\\lib\\site-packages (from sentence-transformers) (4.11.2)\n",
      "Requirement already satisfied: scikit-learn in c:\\users\\91934\\anaconda3\\lib\\site-packages (from sentence-transformers) (0.23.2)\n",
      "Requirement already satisfied: scipy in c:\\users\\91934\\anaconda3\\lib\\site-packages (from sentence-transformers) (1.5.2)\n",
      "Requirement already satisfied: pillow>=5.3.0 in c:\\users\\91934\\anaconda3\\lib\\site-packages (from torchvision->sentence-transformers) (8.0.1)\n",
      "Requirement already satisfied: regex in c:\\users\\91934\\anaconda3\\lib\\site-packages (from nltk->sentence-transformers) (2020.10.15)\n",
      "Requirement already satisfied: joblib in c:\\users\\91934\\anaconda3\\lib\\site-packages (from nltk->sentence-transformers) (0.17.0)\n",
      "Requirement already satisfied: click in c:\\users\\91934\\anaconda3\\lib\\site-packages (from nltk->sentence-transformers) (7.1.2)\n",
      "Requirement already satisfied: typing-extensions in c:\\users\\91934\\anaconda3\\lib\\site-packages (from torch>=1.6.0->sentence-transformers) (3.7.4.3)\n",
      "Collecting packaging>=20.9\n"
     ]
    }
   ],
   "source": [
    "pip install  sentence-transformers"
   ]
  },
  {
   "cell_type": "code",
   "execution_count": null,
   "metadata": {},
   "outputs": [],
   "source": [
    "DATASET = \"faqs2.xlsx\"\n",
    "df=pd.read_excel(DATASET)\n",
    "df"
   ]
  },
  {
   "cell_type": "code",
   "execution_count": 5,
   "metadata": {},
   "outputs": [
    {
     "data": {
      "text/html": [
       "<div>\n",
       "<style scoped>\n",
       "    .dataframe tbody tr th:only-of-type {\n",
       "        vertical-align: middle;\n",
       "    }\n",
       "\n",
       "    .dataframe tbody tr th {\n",
       "        vertical-align: top;\n",
       "    }\n",
       "\n",
       "    .dataframe thead th {\n",
       "        text-align: right;\n",
       "    }\n",
       "</style>\n",
       "<table border=\"1\" class=\"dataframe\">\n",
       "  <thead>\n",
       "    <tr style=\"text-align: right;\">\n",
       "      <th></th>\n",
       "      <th>Q</th>\n",
       "      <th>A</th>\n",
       "      <th>procd_Q</th>\n",
       "    </tr>\n",
       "  </thead>\n",
       "  <tbody>\n",
       "    <tr>\n",
       "      <th>0</th>\n",
       "      <td>What is kandi?</td>\n",
       "      <td>kandi (pronounced kan·dee) is a platform that ...</td>\n",
       "      <td>What is kandi</td>\n",
       "    </tr>\n",
       "    <tr>\n",
       "      <th>1</th>\n",
       "      <td>Have feedback or want to know more?</td>\n",
       "      <td>We are a passionate set of application focused...</td>\n",
       "      <td>Have feedback or want to know more</td>\n",
       "    </tr>\n",
       "    <tr>\n",
       "      <th>2</th>\n",
       "      <td>What components does kandi cover?</td>\n",
       "      <td>kandi helps you select software components acr...</td>\n",
       "      <td>What components does kandi cover</td>\n",
       "    </tr>\n",
       "    <tr>\n",
       "      <th>3</th>\n",
       "      <td>How do I use kandi?</td>\n",
       "      <td>kandi provides two simplified experiences to h...</td>\n",
       "      <td>How do I use kandi</td>\n",
       "    </tr>\n",
       "    <tr>\n",
       "      <th>4</th>\n",
       "      <td>How do I shortlist components on kandi?</td>\n",
       "      <td>You can use the below filters to shortlist com...</td>\n",
       "      <td>How do I shortlist components on kandi</td>\n",
       "    </tr>\n",
       "    <tr>\n",
       "      <th>5</th>\n",
       "      <td>How do I implement the components that I have ...</td>\n",
       "      <td>The component listing and detailed insights pa...</td>\n",
       "      <td>How do I implement the components that I have ...</td>\n",
       "    </tr>\n",
       "  </tbody>\n",
       "</table>\n",
       "</div>"
      ],
      "text/plain": [
       "                                                   Q  \\\n",
       "0                                     What is kandi?   \n",
       "1                Have feedback or want to know more?   \n",
       "2                  What components does kandi cover?   \n",
       "3                                How do I use kandi?   \n",
       "4            How do I shortlist components on kandi?   \n",
       "5  How do I implement the components that I have ...   \n",
       "\n",
       "                                                   A  \\\n",
       "0  kandi (pronounced kan·dee) is a platform that ...   \n",
       "1  We are a passionate set of application focused...   \n",
       "2  kandi helps you select software components acr...   \n",
       "3  kandi provides two simplified experiences to h...   \n",
       "4  You can use the below filters to shortlist com...   \n",
       "5  The component listing and detailed insights pa...   \n",
       "\n",
       "                                             procd_Q  \n",
       "0                                     What is kandi   \n",
       "1                Have feedback or want to know more   \n",
       "2                  What components does kandi cover   \n",
       "3                                How do I use kandi   \n",
       "4            How do I shortlist components on kandi   \n",
       "5  How do I implement the components that I have ...  "
      ]
     },
     "execution_count": 5,
     "metadata": {},
     "output_type": "execute_result"
    }
   ],
   "source": [
    "df['procd_Q'] = df['Q'].pipe(remove_digits).pipe(remove_punctuation)#.pipe(remove_lessthan,length=3)\\\n",
    "                                                    #.pipe(remove_stopwords,stopwords=en_stopwords.union(hi_stopwords))\n",
    "df"
   ]
  },
  {
   "cell_type": "code",
   "execution_count": 6,
   "metadata": {},
   "outputs": [
    {
     "data": {
      "application/vnd.jupyter.widget-view+json": {
       "model_id": "8f5dd883797844a39be286b84cbe11ed",
       "version_major": 2,
       "version_minor": 0
      },
      "text/plain": [
       "HBox(children=(HTML(value='Downloading'), FloatProgress(value=0.0, max=690.0), HTML(value='')))"
      ]
     },
     "metadata": {},
     "output_type": "display_data"
    },
    {
     "name": "stdout",
     "output_type": "stream",
     "text": [
      "\n"
     ]
    },
    {
     "data": {
      "application/vnd.jupyter.widget-view+json": {
       "model_id": "beb49052cd474bbfb3c68389dfc60479",
       "version_major": 2,
       "version_minor": 0
      },
      "text/plain": [
       "HBox(children=(HTML(value='Downloading'), FloatProgress(value=0.0, max=3693.0), HTML(value='')))"
      ]
     },
     "metadata": {},
     "output_type": "display_data"
    },
    {
     "name": "stdout",
     "output_type": "stream",
     "text": [
      "\n"
     ]
    },
    {
     "data": {
      "application/vnd.jupyter.widget-view+json": {
       "model_id": "4a0beea81997461ea32bc6627742debb",
       "version_major": 2,
       "version_minor": 0
      },
      "text/plain": [
       "HBox(children=(HTML(value='Downloading'), FloatProgress(value=0.0, max=629.0), HTML(value='')))"
      ]
     },
     "metadata": {},
     "output_type": "display_data"
    },
    {
     "name": "stdout",
     "output_type": "stream",
     "text": [
      "\n"
     ]
    },
    {
     "data": {
      "application/vnd.jupyter.widget-view+json": {
       "model_id": "5966afc1a33a4d53b57487c30099d8e6",
       "version_major": 2,
       "version_minor": 0
      },
      "text/plain": [
       "HBox(children=(HTML(value='Downloading'), FloatProgress(value=0.0, max=122.0), HTML(value='')))"
      ]
     },
     "metadata": {},
     "output_type": "display_data"
    },
    {
     "name": "stdout",
     "output_type": "stream",
     "text": [
      "\n"
     ]
    },
    {
     "data": {
      "application/vnd.jupyter.widget-view+json": {
       "model_id": "a36f8d5a761e48489ad43ac9f489adfb",
       "version_major": 2,
       "version_minor": 0
      },
      "text/plain": [
       "HBox(children=(HTML(value='Downloading'), FloatProgress(value=0.0, max=229.0), HTML(value='')))"
      ]
     },
     "metadata": {},
     "output_type": "display_data"
    },
    {
     "name": "stdout",
     "output_type": "stream",
     "text": [
      "\n"
     ]
    },
    {
     "data": {
      "application/vnd.jupyter.widget-view+json": {
       "model_id": "be8d973af22641d5afffde9a1c048ea1",
       "version_major": 2,
       "version_minor": 0
      },
      "text/plain": [
       "HBox(children=(HTML(value='Downloading'), FloatProgress(value=0.0, max=90895153.0), HTML(value='')))"
      ]
     },
     "metadata": {},
     "output_type": "display_data"
    },
    {
     "name": "stdout",
     "output_type": "stream",
     "text": [
      "\n"
     ]
    },
    {
     "data": {
      "application/vnd.jupyter.widget-view+json": {
       "model_id": "be9044b2dd5647378a52b9d0f48ceabf",
       "version_major": 2,
       "version_minor": 0
      },
      "text/plain": [
       "HBox(children=(HTML(value='Downloading'), FloatProgress(value=0.0, max=53.0), HTML(value='')))"
      ]
     },
     "metadata": {},
     "output_type": "display_data"
    },
    {
     "name": "stdout",
     "output_type": "stream",
     "text": [
      "\n"
     ]
    },
    {
     "data": {
      "application/vnd.jupyter.widget-view+json": {
       "model_id": "fb4a9671f1444e5f84887b238f97e243",
       "version_major": 2,
       "version_minor": 0
      },
      "text/plain": [
       "HBox(children=(HTML(value='Downloading'), FloatProgress(value=0.0, max=112.0), HTML(value='')))"
      ]
     },
     "metadata": {},
     "output_type": "display_data"
    },
    {
     "name": "stdout",
     "output_type": "stream",
     "text": [
      "\n"
     ]
    },
    {
     "data": {
      "application/vnd.jupyter.widget-view+json": {
       "model_id": "ed3f1c6f648c4a9a895184709f130b2a",
       "version_major": 2,
       "version_minor": 0
      },
      "text/plain": [
       "HBox(children=(HTML(value='Downloading'), FloatProgress(value=0.0, max=466081.0), HTML(value='')))"
      ]
     },
     "metadata": {},
     "output_type": "display_data"
    },
    {
     "name": "stdout",
     "output_type": "stream",
     "text": [
      "\n"
     ]
    },
    {
     "data": {
      "application/vnd.jupyter.widget-view+json": {
       "model_id": "4f5fe0a85de54e5783b3e9184f44ca5e",
       "version_major": 2,
       "version_minor": 0
      },
      "text/plain": [
       "HBox(children=(HTML(value='Downloading'), FloatProgress(value=0.0, max=314.0), HTML(value='')))"
      ]
     },
     "metadata": {},
     "output_type": "display_data"
    },
    {
     "name": "stdout",
     "output_type": "stream",
     "text": [
      "\n"
     ]
    },
    {
     "data": {
      "application/vnd.jupyter.widget-view+json": {
       "model_id": "84754da5f0fd4a30878423ef62e3082e",
       "version_major": 2,
       "version_minor": 0
      },
      "text/plain": [
       "HBox(children=(HTML(value='Downloading'), FloatProgress(value=0.0, max=231508.0), HTML(value='')))"
      ]
     },
     "metadata": {},
     "output_type": "display_data"
    },
    {
     "name": "stdout",
     "output_type": "stream",
     "text": [
      "\n"
     ]
    },
    {
     "data": {
      "application/vnd.jupyter.widget-view+json": {
       "model_id": "39a965cff8484b268c2d762dd4247ed3",
       "version_major": 2,
       "version_minor": 0
      },
      "text/plain": [
       "HBox(children=(HTML(value='Downloading'), FloatProgress(value=0.0, max=190.0), HTML(value='')))"
      ]
     },
     "metadata": {},
     "output_type": "display_data"
    },
    {
     "name": "stdout",
     "output_type": "stream",
     "text": [
      "\n"
     ]
    }
   ],
   "source": [
    "from sentence_transformers import SentenceTransformer\n",
    "model = SentenceTransformer('paraphrase-MiniLM-L6-v2')"
   ]
  },
  {
   "cell_type": "code",
   "execution_count": 7,
   "metadata": {},
   "outputs": [
    {
     "name": "stderr",
     "output_type": "stream",
     "text": [
      "C:\\Users\\91934\\anaconda3\\lib\\site-packages\\transformers\\tokenization_utils_base.py:2227: UserWarning: `max_length` is ignored when `padding`=`True`.\n",
      "  warnings.warn(\"`max_length` is ignored when `padding`=`True`.\")\n"
     ]
    }
   ],
   "source": [
    "q_embs = model.encode(df['procd_Q'], convert_to_tensor=True)"
   ]
  },
  {
   "cell_type": "code",
   "execution_count": 8,
   "metadata": {},
   "outputs": [
    {
     "data": {
      "text/plain": [
       "torch.Size([6, 384])"
      ]
     },
     "execution_count": 8,
     "metadata": {},
     "output_type": "execute_result"
    }
   ],
   "source": [
    "q_embs.shape"
   ]
  },
  {
   "cell_type": "code",
   "execution_count": 9,
   "metadata": {},
   "outputs": [],
   "source": [
    "usr_query = \"tell me about kandi\""
   ]
  },
  {
   "cell_type": "code",
   "execution_count": 10,
   "metadata": {},
   "outputs": [
    {
     "data": {
      "text/html": [
       "<div>\n",
       "<style scoped>\n",
       "    .dataframe tbody tr th:only-of-type {\n",
       "        vertical-align: middle;\n",
       "    }\n",
       "\n",
       "    .dataframe tbody tr th {\n",
       "        vertical-align: top;\n",
       "    }\n",
       "\n",
       "    .dataframe thead th {\n",
       "        text-align: right;\n",
       "    }\n",
       "</style>\n",
       "<table border=\"1\" class=\"dataframe\">\n",
       "  <thead>\n",
       "    <tr style=\"text-align: right;\">\n",
       "      <th></th>\n",
       "      <th>usr_query</th>\n",
       "    </tr>\n",
       "  </thead>\n",
       "  <tbody>\n",
       "    <tr>\n",
       "      <th>0</th>\n",
       "      <td>tell me about kandi</td>\n",
       "    </tr>\n",
       "  </tbody>\n",
       "</table>\n",
       "</div>"
      ],
      "text/plain": [
       "             usr_query\n",
       "0  tell me about kandi"
      ]
     },
     "execution_count": 10,
     "metadata": {},
     "output_type": "execute_result"
    }
   ],
   "source": [
    "df_usr_query = pd.DataFrame([usr_query], columns=[\"usr_query\"])\n",
    "df_usr_query"
   ]
  },
  {
   "cell_type": "code",
   "execution_count": 11,
   "metadata": {},
   "outputs": [
    {
     "data": {
      "text/html": [
       "<div>\n",
       "<style scoped>\n",
       "    .dataframe tbody tr th:only-of-type {\n",
       "        vertical-align: middle;\n",
       "    }\n",
       "\n",
       "    .dataframe tbody tr th {\n",
       "        vertical-align: top;\n",
       "    }\n",
       "\n",
       "    .dataframe thead th {\n",
       "        text-align: right;\n",
       "    }\n",
       "</style>\n",
       "<table border=\"1\" class=\"dataframe\">\n",
       "  <thead>\n",
       "    <tr style=\"text-align: right;\">\n",
       "      <th></th>\n",
       "      <th>usr_query</th>\n",
       "      <th>clean_usr_Q</th>\n",
       "    </tr>\n",
       "  </thead>\n",
       "  <tbody>\n",
       "    <tr>\n",
       "      <th>0</th>\n",
       "      <td>tell me about kandi</td>\n",
       "      <td>tell me about kandi</td>\n",
       "    </tr>\n",
       "  </tbody>\n",
       "</table>\n",
       "</div>"
      ],
      "text/plain": [
       "             usr_query          clean_usr_Q\n",
       "0  tell me about kandi  tell me about kandi"
      ]
     },
     "execution_count": 11,
     "metadata": {},
     "output_type": "execute_result"
    }
   ],
   "source": [
    "df_usr_query['clean_usr_Q'] = df_usr_query['usr_query'].pipe(remove_digits) \\\n",
    "                                    .pipe(remove_punctuation) \n",
    "df_usr_query\n"
   ]
  },
  {
   "cell_type": "code",
   "execution_count": 12,
   "metadata": {},
   "outputs": [
    {
     "name": "stderr",
     "output_type": "stream",
     "text": [
      "C:\\Users\\91934\\anaconda3\\lib\\site-packages\\transformers\\tokenization_utils_base.py:2227: UserWarning: `max_length` is ignored when `padding`=`True`.\n",
      "  warnings.warn(\"`max_length` is ignored when `padding`=`True`.\")\n"
     ]
    },
    {
     "data": {
      "text/plain": [
       "torch.Size([1, 384])"
      ]
     },
     "execution_count": 12,
     "metadata": {},
     "output_type": "execute_result"
    }
   ],
   "source": [
    "usr_q_emb = model.encode(df_usr_query['clean_usr_Q'], convert_to_tensor=True)\n",
    "usr_q_emb.shape"
   ]
  },
  {
   "cell_type": "code",
   "execution_count": 13,
   "metadata": {},
   "outputs": [],
   "source": [
    "import torch"
   ]
  },
  {
   "cell_type": "code",
   "execution_count": 14,
   "metadata": {},
   "outputs": [],
   "source": [
    "cos_fn = torch.nn.CosineSimilarity(dim=1,eps=1e-6)\n",
    "idx = np.argmax(cos_fn(usr_q_emb,q_embs)).item()"
   ]
  },
  {
   "cell_type": "code",
   "execution_count": 15,
   "metadata": {},
   "outputs": [
    {
     "data": {
      "text/plain": [
       "'kandi (pronounced kan·dee) is a platform that helps developers pick the right library, package, code samples, APIs, and cloud functions, by analyzing over 430 million knowledge items.'"
      ]
     },
     "execution_count": 15,
     "metadata": {},
     "output_type": "execute_result"
    }
   ],
   "source": [
    "df['A'][idx]"
   ]
  },
  {
   "cell_type": "code",
   "execution_count": 16,
   "metadata": {},
   "outputs": [],
   "source": [
    "\n",
    "def pred_answer(usr_query):\n",
    "    df_usr_query = pd.DataFrame([usr_query], columns=[\"usr_query\"])\n",
    "    df_usr_query['clean_usr_Q'] = df_usr_query['usr_query'].pipe(remove_digits) \\\n",
    "                                    .pipe(remove_punctuation) \n",
    "    usr_q_emb = model.encode(df_usr_query['clean_usr_Q'], convert_to_tensor=True)\n",
    "    cos_fn = torch.nn.CosineSimilarity(dim=1,eps=1e-6)\n",
    "    idx = np.argmax(cos_fn(usr_q_emb,q_embs)).item()\n",
    "    return df['A'][idx]"
   ]
  },
  {
   "cell_type": "code",
   "execution_count": null,
   "metadata": {},
   "outputs": [],
   "source": [
    "while True:\n",
    "    usr_query = input(\"Ask a query: \")\n",
    "    if usr_query == \"exit\":\n",
    "        break\n",
    "    else:\n",
    "        print(pred_answer(usr_query))\n",
    "        print(\"-----------------------------------------------\")"
   ]
  },
  {
   "cell_type": "code",
   "execution_count": null,
   "metadata": {},
   "outputs": [],
   "source": []
  }
 ],
 "metadata": {
  "kernelspec": {
   "display_name": "Python 3",
   "language": "python",
   "name": "python3"
  },
  "language_info": {
   "codemirror_mode": {
    "name": "ipython",
    "version": 3
   },
   "file_extension": ".py",
   "mimetype": "text/x-python",
   "name": "python",
   "nbconvert_exporter": "python",
   "pygments_lexer": "ipython3",
   "version": "3.8.5"
  }
 },
 "nbformat": 4,
 "nbformat_minor": 4
}
